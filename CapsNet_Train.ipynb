{
 "cells": [
  {
   "cell_type": "markdown",
   "metadata": {},
   "source": [
    "# 0. Setup"
   ]
  },
  {
   "cell_type": "code",
   "execution_count": null,
   "metadata": {},
   "outputs": [],
   "source": [
    "%load_ext autoreload\n",
    "%autoreload 2"
   ]
  },
  {
   "cell_type": "code",
   "execution_count": null,
   "metadata": {},
   "outputs": [],
   "source": [
    "# from google.colab import drive\n",
    "# drive.mount('/content/drive')\n",
    "# import sys\n",
    "# sys.path.append('/content/drive/MyDrive/Colab Notebooks')"
   ]
  },
  {
   "cell_type": "code",
   "execution_count": null,
   "metadata": {},
   "outputs": [],
   "source": [
    "import tensorflow as tf\n",
    "from utils import Dataset, plot_image\n",
    "from capsnet import CapsNet"
   ]
  },
  {
   "cell_type": "code",
   "execution_count": null,
   "metadata": {},
   "outputs": [],
   "source": [
    "gpus = tf.config.experimental.list_physical_devices('GPU')\n",
    "tf.config.experimental.set_visible_devices(gpus[0], 'GPU')\n",
    "tf.config.experimental.set_memory_growth(gpus[0], True)"
   ]
  },
  {
   "cell_type": "markdown",
   "metadata": {},
   "source": [
    "# 1. Dataset"
   ]
  },
  {
   "source": [
    "## 1.1. MNIST"
   ],
   "cell_type": "markdown",
   "metadata": {}
  },
  {
   "cell_type": "code",
   "execution_count": null,
   "metadata": {
    "tags": []
   },
   "outputs": [],
   "source": [
    "data_name_1 = 'MNIST'\n",
    "# dataset_1 = Dataset(data_name_1)"
   ]
  },
  {
   "cell_type": "code",
   "execution_count": null,
   "metadata": {},
   "outputs": [],
   "source": [
    "# n_img = 6\n",
    "# plot_image(dataset_1.x_test[:n_img], dataset_1.y_test[:n_img], dataset_1.class_names, n_img)\n",
    "# print(dataset_1.x_test[0].shape, dataset_1.y_test[0].shape)"
   ]
  },
  {
   "source": [
    "## 1.2. SMALLNORB"
   ],
   "cell_type": "markdown",
   "metadata": {}
  },
  {
   "cell_type": "code",
   "execution_count": null,
   "metadata": {},
   "outputs": [],
   "source": [
    "data_name_2 = 'SMALLNORB'\n",
    "# dataset_2 = Dataset(data_name_2)"
   ]
  },
  {
   "cell_type": "code",
   "execution_count": null,
   "metadata": {},
   "outputs": [],
   "source": [
    "# n_img = 6\n",
    "# plot_image(dataset_2.x_test[:n_img], dataset_2.y_test[:n_img], dataset_2.class_names, n_img)\n",
    "# print(dataset_2.x_test[0].shape, dataset_2.y_test[0].shape)"
   ]
  },
  {
   "source": [
    "## 1.3. CIFAR10"
   ],
   "cell_type": "markdown",
   "metadata": {}
  },
  {
   "cell_type": "code",
   "execution_count": null,
   "metadata": {},
   "outputs": [],
   "source": [
    "data_name_3 = 'CIFAR10'\n",
    "dataset_3 = Dataset(data_name_3)"
   ]
  },
  {
   "cell_type": "code",
   "execution_count": null,
   "metadata": {},
   "outputs": [],
   "source": [
    "n_img = 6\n",
    "plot_image(dataset_3.x_test[:n_img], dataset_3.y_test[:n_img], dataset_3.class_names, n_img)\n",
    "print(dataset_3.x_test[0].shape, dataset_3.y_test[0].shape)"
   ]
  },
  {
   "cell_type": "markdown",
   "metadata": {},
   "source": [
    "# 2. Load Model"
   ]
  },
  {
   "cell_type": "code",
   "execution_count": null,
   "metadata": {},
   "outputs": [],
   "source": [
    "# model_train = CapsNet(data_name_1, mode='train', r=3)\n",
    "# model_train = CapsNet(data_name_2, mode='train', r=3)\n",
    "model_train = CapsNet(data_name_3, mode='train', r=3)"
   ]
  },
  {
   "cell_type": "markdown",
   "metadata": {},
   "source": [
    "# 3. Train Model"
   ]
  },
  {
   "cell_type": "code",
   "execution_count": null,
   "metadata": {
    "tags": []
   },
   "outputs": [],
   "source": [
    "# data_train, data_test = dataset_1.get_tf_data()\n",
    "# history = model_train.train(dataset_1, initial_epoch=0)\n",
    "# data_train, data_test = dataset_2.get_tf_data()\n",
    "# history = model_train.train(dataset_2, initial_epoch=0)\n",
    "data_train, data_test = dataset_3.get_tf_data()\n",
    "history = model_train.train(dataset_3, initial_epoch=0)"
   ]
  }
 ],
 "metadata": {
  "kernelspec": {
   "name": "py38_tensorflow",
   "display_name": "Python 3.8.8 64-bit ('py38_tensorflow': conda)"
  },
  "language_info": {
   "codemirror_mode": {
    "name": "ipython",
    "version": 3
   },
   "file_extension": ".py",
   "mimetype": "text/x-python",
   "name": "python",
   "nbconvert_exporter": "python",
   "pygments_lexer": "ipython3",
   "version": "3.8.8"
  }
 },
 "nbformat": 4,
 "nbformat_minor": 2
}